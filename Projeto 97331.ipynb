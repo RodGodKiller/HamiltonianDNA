{
 "cells": [
  {
   "cell_type": "markdown",
   "metadata": {},
   "source": [
    "## Relatório Final\n",
    "\n",
    "Optou-se por usar os módulos disponibilizados.\n",
    "\n",
    "À frente descreve-se a implementação do simulador (o ficheiro `main.py` contém a implementação na íntegra). "
   ]
  },
  {
   "cell_type": "markdown",
   "metadata": {},
   "source": [
    "### *Set Up*\n",
    "\n",
    "Começa-se por importar todos os módulos necessários e definir algumas funções auxiliares. "
   ]
  },
  {
   "cell_type": "markdown",
   "metadata": {},
   "source": [
    "**Módulos:**\n",
    "\n",
    "Importam-se os módulos disponibilizados, bem como outros provenientes da *standard library*."
   ]
  },
  {
   "cell_type": "code",
   "execution_count": 1,
   "metadata": {},
   "outputs": [],
   "source": [
    "import cap_adt as cp\n",
    "import event_adt as ev\n",
    "import graph_adt as gr\n",
    "import ind_adt as ind\n",
    "import path_adt as path\n",
    "import tube_adt as tb\n",
    "from random import random, choice, uniform, randint\n",
    "from math import log\n",
    "from itertools import islice"
   ]
  },
  {
   "cell_type": "markdown",
   "metadata": {},
   "source": [
    "**Funções Auxiliáres:**\n",
    "\n",
    "Definem-se duas funções auxiliares, `exprandom()` e `random_chunk()`, descritas à frente."
   ]
  },
  {
   "cell_type": "markdown",
   "metadata": {},
   "source": [
    "**`exprandom()`**:\n",
    "\n",
    "Função que devolver um número aleatório à volta de um valor médio `m`, por meio de uma distribuição exponencial. É usada para establecer o tempo entre eventos."
   ]
  },
  {
   "cell_type": "code",
   "execution_count": 2,
   "metadata": {},
   "outputs": [],
   "source": [
    "def exprandom(m):\n",
    "    x=random()\n",
    "    return -m*log(x)"
   ]
  },
  {
   "cell_type": "markdown",
   "metadata": {},
   "source": [
    "**`random_chunk()`**:\n",
    "\n",
    "Dando uso a  `randint()` e `islice` importador anteriormente, devolve, dada uma lista `li` e um inteiro `max_len` uma lista de listas de concatenações de `li` com comprimento aleatório entre `min_chunk` e `max_chunk`. É usada num evento de cisão para separar os indivíduos selecionados noutros de tamanho não superior a um dado número. \n",
    "\n",
    "Admitidamente, esta implementação seria melhor se se tivesse usado o método `breakP()` disponibilizado no módulo `path_adt`.\n",
    "\n",
    "A fim de não acusar tentatívas de plágio, a `random_chunk()` foi fortemente inspirada em https://stackoverflow.com/questions/21439011/best-way-to-split-a-list-into-randomly-sized-chunks."
   ]
  },
  {
   "cell_type": "code",
   "execution_count": 3,
   "metadata": {},
   "outputs": [],
   "source": [
    "def random_chunk(li, max_len):\n",
    "    it = iter(li)\n",
    "    while True:\n",
    "        nxt=list(islice(it, randint(1, max_len)))\n",
    "        if nxt:\n",
    "            yield nxt\n",
    "        else:\n",
    "            break"
   ]
  },
  {
   "cell_type": "markdown",
   "metadata": {},
   "source": [
    "### Implementação\n",
    "\n",
    "Aqui tem-se a função `simu()` que acaba por ser o simulador prorpriemente dito. A implementação é descrita com comentários ao longo do código. A baixo estão, também, algumas observações."
   ]
  },
  {
   "cell_type": "code",
   "execution_count": 72,
   "metadata": {},
   "outputs": [],
   "source": [
    "def simu(G, o = 1, d = 4, k = 20, ht = 20, tbc = 1, tbd = 1, tbz = 1):\n",
    "    nodeList=gr.get_nodesG(G)\n",
    "\n",
    "    # 0 - PREPARAÇÃO\n",
    "\n",
    "    # Cria-se uma solução e uma CAP novas (a CAP com um evento de cisão.)\n",
    "    sol=tb.newT()\n",
    "    cap=cp.newS()\n",
    "    cap=cp.addS(cap, ev.newE(exprandom(tbz), \"cis\", 0))\n",
    "\n",
    "    # Criam-se os indivíduos (k cópias de cada uma das arestas de g) e adicionam-se à solução\n",
    "    id = 0\n",
    "    for e in gr.get_edgesG(G):\n",
    "        for _ in range(k):\n",
    "            id += 1\n",
    "            i = ind.newI(e, random(), random(), random(), id)\n",
    "            sol = tb.addT(sol, i)\n",
    "\n",
    "    # Adiciona-se um evento de concatenação e deslocamento por cada indivíduo à CAP.\n",
    "    for x in tb.get_idsT(sol):\n",
    "        cap = cp.addS(cap, ev.newE(exprandom(tbc), \"conc\", x))\n",
    "        cap = cp.addS(cap, ev.newE(exprandom(tbd), \"desl\", x))\n",
    "\n",
    "    # 1 - HIBRIDAÇÃO\n",
    "    time = 0\n",
    "    evt = cp.nextS(cap)\n",
    "    cap = cp.delS(cap)\n",
    "    \n",
    "    while time < ht:\n",
    "        id = ev.idE(evt)\n",
    "        \n",
    "        # Se o indivíduo correspondente ao evento atual já não estiver na solução, passar à frente.\n",
    "        if tb.existsT(sol, id):\n",
    "\n",
    "            # Concatenação\n",
    "            if ev.kindE(evt) == \"conc\":\n",
    "                viz = tb.neigT(sol, id)\n",
    "                indi = tb.get_indT(sol, id)\n",
    "                # Se houver indivíduos compatíveis, proceder com a concatenação\n",
    "                if viz != []:\n",
    "                    # Escolhe um de entre os cinco disponíveis.\n",
    "                    chosen = choice(viz) \n",
    "                    if path.compP(ind.pathI(indi), ind.pathI(chosen)):\n",
    "                        caminho = path.glueP(ind.pathI(indi), ind.pathI(chosen))\n",
    "                    else:\n",
    "                        caminho = path.glueP(ind.pathI(chosen), ind.pathI(indi))\n",
    "                    # Cria-se o novo indivíduo com identificador +1 que o último da solução.\n",
    "                    newInd = ind.newI(\n",
    "                                        caminho, \n",
    "                                        (ind.xposI(indi)+ind.xposI(chosen))/2, \n",
    "                                        (ind.yposI(indi)+ind.yposI(chosen))/2, \n",
    "                                        (ind.zposI(indi)+ind.zposI(chosen))/2, \n",
    "                                        tb.get_idsT(sol)[-1] + 1\n",
    "                                    )\n",
    "                    sol = tb.addT(sol, newInd)\n",
    "                    # Removem-se os dois indivíduos da solução\n",
    "                    sol = tb.delT(sol, ind.idI(chosen))\n",
    "                    sol = tb.delT(sol, ind.idI(indi))\n",
    "\n",
    "                    # Adiciona-se um novo evento de concatenação e deslocamento para este novo indivíduo.\n",
    "                    cap = cp.addS(cap, ev.newE(time + exprandom(tbc), \"conc\", ind.idI(newInd)))\n",
    "                    cap = cp.addS(cap, ev.newE(time + exprandom(tbd), \"desl\", ind.idI(newInd)))\n",
    "\n",
    "                # Se não houver, não se faz nada. \n",
    "                else:\n",
    "                    pass\n",
    "\n",
    "            # Deslocamento\n",
    "            elif ev.kindE(evt) == \"desl\":\n",
    "                indi = tb.get_indT(sol, id)\n",
    "                c = path.lenP(ind.pathI(indi))\n",
    "                dist = 1/c\n",
    "                x = ind.xposI(indi)\n",
    "                y = ind.yposI(indi)\n",
    "                z = ind.zposI(indi)\n",
    "                newInd = ind.newI(\n",
    "                                    ind.pathI(indi), \n",
    "                                    uniform(x-dist,x+dist), \n",
    "                                    uniform(y-dist,y+dist), \n",
    "                                    uniform(z-dist,z+dist), \n",
    "                                    ind.idI(indi)\n",
    "                                )\n",
    "                # Adiciona-se um novo evento de deslocação para este indivíduo\n",
    "\n",
    "                cap = cp.addS(cap, ev.newE(time + exprandom(tbd), \"desl\", ind.idI(newInd)))\n",
    "\n",
    "\n",
    "            # Cisão\n",
    "            elif ev.kindE(evt) == \"cis\":\n",
    "                # Percorrem-se todos os indivíduos\n",
    "                for i in tb.get_idsT(sol):\n",
    "                    cami = ind.pathI(tb.get_indT(sol, i))\n",
    "                    if path.lenP(cami) > len(nodeList):\n",
    "                        # Cria-se uma lista das partições do caminho\n",
    "                        paths = list(random_chunk(li, 1, len(nodeList)//2))\n",
    "                        # Adicionam-se os indivíduos criados da partição dos caminhos.\n",
    "                        for p in paths:\n",
    "                            sol = tb.addT(sol, ind.newI(p, random(), random(), random(),tb.get_idsT(sol)[-1]))\n",
    "                        # Remove-se o indivíduo da solução\n",
    "                        sol = tb.delT(sol, ind.idI(i))\n",
    "\n",
    "                cap = cp.addS(cap, ev.newE(time + exprandom(tbz), \"cis\", 0))\n",
    "        cap = cp.delS(cap)\n",
    "        evt = cp.nextS(cap)\n",
    "        time = ev.timeE(evt)\n",
    "\n",
    "# 2 - CAMINHOS COM ORIGEM E DESTINO PRETENDIDOS\n",
    "    for x in tb.get_idsT(sol):\n",
    "        oT = ind.pathI(tb.get_indT(sol, x))[0]  \n",
    "        dT = ind.pathI(tb.get_indT(sol, x))[-1]\n",
    "        if oT != o or dT != d:\n",
    "            sol = tb.delT(sol, x)\n",
    "\n",
    "# 3 - CAMINHOS COM COMPRIMENTO PRETENDIDO\n",
    "    for x in tb.get_idsT(sol):\n",
    "        comp = len(ind.pathI(tb.get_indT(sol, x)))\n",
    "        if comp != len(nodeList):\n",
    "            sol = tb.delT(sol, x)\n",
    "\n",
    "# 4 - CAMINHOS QUE PASSAM EM TODOS OS VÉRTICES\n",
    "    for v in nodeList:\n",
    "        for x in tb.get_idsT(sol):\n",
    "            if not path.crossesP(ind.pathI(tb.get_indT(sol, x)), v):\n",
    "                sol = tb.delT(sol, x)\n",
    "\n",
    "# 5 - RESULTADO\n",
    "    return set([ind.pathI(i) for i in [tb.get_indT(sol, x) for x in tb.get_idsT(sol)]])"
   ]
  },
  {
   "cell_type": "markdown",
   "metadata": {},
   "source": [
    "### Comentários sobre `simu()`\n",
    "\n",
    "\n",
    "\n",
    "Na última linha converte-se a lista para o tipo `set` para remover caminhos duplicados. "
   ]
  },
  {
   "cell_type": "markdown",
   "metadata": {},
   "source": [
    "## Exemplos de Utilização\n",
    "\n",
    "Passa-se, agora, à análise do computarmento do simulador dadas algumas situações."
   ]
  },
  {
   "cell_type": "markdown",
   "metadata": {},
   "source": [
    "### Exemplos do enúnciado\n",
    "Começa-se por experimentar com os exemplos dados no enúnciado do projeto: "
   ]
  },
  {
   "cell_type": "markdown",
   "metadata": {},
   "source": [
    "#### Grafo de com quatro nós\n",
    "\n",
    "Como será de esperar, são devolvidos os únicos caminhos hamiltonianos (1,2,3,4) e (1,3,2,4): "
   ]
  },
  {
   "cell_type": "code",
   "execution_count": 81,
   "metadata": {
    "scrolled": true
   },
   "outputs": [
    {
     "data": {
      "text/plain": [
       "[(1, 2, 3, 4), (1, 3, 2, 4)]"
      ]
     },
     "execution_count": 81,
     "metadata": {},
     "output_type": "execute_result"
    }
   ],
   "source": [
    "# Contrói-se um grafo pequenino:\n",
    "g=gr.newG([x for x in range(1,5)])\n",
    "g=gr.add_edgesG(g, [(1,2), (1,3), (2,3), (2,4), (3,2), (3,4), (3,4)])\n",
    "\n",
    "simu(G = g)"
   ]
  },
  {
   "cell_type": "markdown",
   "metadata": {},
   "source": [
    "#### Grafo de Adleman\n",
    "\n",
    "Aplica-se, agora, o simulador ao grafo usado por Adleman, com os valores propostos no enúnciado. Como seria de esperar, apenas se devolve o único caminho hamiltoniano do grafo: (0,1,2,3,4,5,6)"
   ]
  },
  {
   "cell_type": "code",
   "execution_count": 82,
   "metadata": {},
   "outputs": [
    {
     "data": {
      "text/plain": [
       "[(0, 1, 2, 3, 4, 5, 6)]"
      ]
     },
     "execution_count": 82,
     "metadata": {},
     "output_type": "execute_result"
    }
   ],
   "source": [
    "# Constrói-se o grafo de Adleman.\n",
    "ald=gr.newG([x for x in range(7)])\n",
    "ald=gr.add_edgesG(ald, [(0, 1), (0, 3), (0, 6), (1, 2), (1, 3),\n",
    "                      (2, 1), (2, 3), (3, 2), (3, 4), (4, 1), (4, 5), (5, 2), (5, 6)])\n",
    "\n",
    "simu(G = ald, o=0, d=6, k=150, ht=100,tbc=1,tbd=1,tbz=10)"
   ]
  },
  {
   "cell_type": "code",
   "execution_count": null,
   "metadata": {},
   "outputs": [],
   "source": []
  }
 ],
 "metadata": {
  "kernelspec": {
   "display_name": "Python 3",
   "language": "python",
   "name": "python3"
  },
  "language_info": {
   "codemirror_mode": {
    "name": "ipython",
    "version": 3
   },
   "file_extension": ".py",
   "mimetype": "text/x-python",
   "name": "python",
   "nbconvert_exporter": "python",
   "pygments_lexer": "ipython3",
   "version": "3.8.5"
  }
 },
 "nbformat": 4,
 "nbformat_minor": 4
}
